{
 "cells": [
  {
   "cell_type": "markdown",
   "metadata": {},
   "source": [
    "# Chapter 1. The Machine Learning Landscape\n",
    "\n",
    "In this chapter, we will:\n",
    "\n",
    "- Define what is machine learning (ML)?\n",
    "- Why we should use ML?\n",
    "- Present applications of ML.\n",
    "- List ML algorithm types.\n",
    "    - Supervised vs. Unsupervised Learning.\n",
    "    - Online versus batch learning\n",
    "    - Instance-based versus model-based learning\n",
    "- Go over a few practical examples.\n",
    "- Talk about common challenges when using ML. "
   ]
  },
  {
   "cell_type": "markdown",
   "metadata": {},
   "source": [
    "## What is Machine Learning?\n",
    "\n",
    "Machine Learning is the art & science of programming computers to learn from data (**data-driven programming**). \n",
    "\n",
    "Arthur Samuel:\n",
    "> ML is the field of study that gives computers the ability to learn without being explicitly programmed.\n",
    "\n",
    "A more formal definition from Tom Mitchell:\n",
    "\n",
    "> A computer program is said to learn from experience $E$ with respect to some task $T$ and some performance measure $P$, if its performance on $T$, as measured by $P$, improves with experience $E$."
   ]
  },
  {
   "cell_type": "markdown",
   "metadata": {},
   "source": [
    "## Why use Machine Learning?\n",
    "\n",
    "When building rule-based systems, we usually follow these steps:\n",
    "1. Observe the phenomena in question.\n",
    "2. We make rules.\n",
    "3. We write the algorithm.\n",
    "4. If the algorithm performs well, we deploy. If not, we go back to step `1`.\n",
    "\n",
    "However, if the problem is complex, we'll likely end up with a long list of rules that are hard to maintain and does not perform well anyway. An ML system would be much shorter, easier to maintain, and in most cases, more accurate.\n",
    "\n",
    "In terms of understading the underlying phenomena with ML, we can simply train an algorithm on a large dataset then inspect its `feature importances` and how it makes decisions. This is called data mining. "
   ]
  },
  {
   "cell_type": "markdown",
   "metadata": {},
   "source": [
    "## Examples of Applications\n",
    "\n",
    "Machine learing has many applications, the following are a few notable ones:\n",
    "- `Image Classification`: classify an image into a specific category. \n",
    "    - We typically perform image classification using convolutional neural networks (CNNs).\n",
    "- `Semantic segmentation`: classify each pixel in an image into a specific category.\n",
    "    - Example: brain tumor detection.\n",
    "- `Chat bots`: uses Natural Language Processing with algorithms that can model sequences.\n",
    "    - Suitable algorithms: LSTMs, Transforms, CNNs.\n",
    "- `Forecasting future revenue`: a regression task that can be tackled using multiple algorithms such as:\n",
    "    - Linear regression.\n",
    "    - Polynomial Regression.\n",
    "    - Support Vector Machines (SVMs).\n",
    "    - Random Forests.\n",
    "    - Gradient Boosting Machines (GBMs).\n",
    "    - Artificial Neural Networks (ANNs).\n",
    "- `Speech Recognition`: typically an encode-decode problem where we aim to maintain semantics and change format.\n",
    "- `Clustering`: segmenting clients based on their purchases so we can design targeted and effective campaings.\n",
    "- `Dimenstionality reduction`: use for high-dimensional data visualization and cluster analysis.\n",
    "    - Algorithms: Pincipal component analysis (PCA) and t-Distributed Stochastic Neighbor Embedding (t-SNE).\n",
    "- `Recommender systems`: we feed the sequence of client purchases to an ANN and predict the next purchase."
   ]
  },
  {
   "cell_type": "markdown",
   "metadata": {},
   "source": [
    "## Types of Machine Learning Systems\n",
    "\n",
    "ML algorithms can be classified according to the amount of supervision they get during training, there are 4 major types of ML algorithms:\n",
    "\n",
    "### Supervised Learning\n",
    "With supervised learning, the training set we feed into the algorithm contains the labels. Most supervised learning tasks fall under two umbrellas: **Classification** and **Regression**. With classification, we are interested in predicting discrete values (example: is the email spam `1` or not spam `0`). On the other hand, regression deals with continuous target values (example: predict the price of houses in dollars). \n",
    "\n",
    "Some regression-based models are used for classification as well, such as `Logistic Regression` which outputs a probability $\\in [0,1]$. Here are a few popular supervised learning algorithms:\n",
    "- K-nearest Neighbors\n",
    "- Linear Regression\n",
    "- Logistic Regression\n",
    "- Decision Trees & Random Forests\n",
    "- Gradient Boosting Machines.\n",
    "- Artificial Neural Networks\n",
    "- Naive Bayes\n",
    "\n",
    "### Unsupervised Learning\n",
    "\n",
    "In unsupervised learning, the data is unlabeled, the system is trying to learn without a teacher by finding internal structure within the dataset. Here are some unsupervised learning algorithms\n",
    "- `Clustering`\n",
    "    - K-means\n",
    "    - DBSCAN\n",
    "    - Hirerchical Cluster Analysis\n",
    "- `Anomaly Detection`\n",
    "    - one-class SVM\n",
    "    - Isolation Forest\n",
    "    - Auto-encoders\n",
    "- `Dimensionality Reduction`: the goal is to compress data without losing information (one way to do it is to merge highly correlated features)\n",
    "    - Principal Component Analysis: `PCA`\n",
    "    - t-distributed stochastic Neighbor Embedding: `T-SNE`\n",
    "    - Autoencoders\n",
    "    - Kernel PCA\n",
    "    - Local Linear Embedding (LLE)\n",
    "- Association rule learning algorithms find interesting relations between attributes\n",
    "    - Apriori\n",
    "    - Eclat\n",
    "\n",
    "### Semi-supervised Learning\n",
    "\n",
    "In semi-supervised learning, we have partially-labeled data. The goal is to to use unlabeled data around the labeled data as helpers to solve the task. Most semi-supervised learning algorithms are a combination of unsupervised and supervised learning algorithms.\n",
    "\n",
    "### Reinforcement Learning\n",
    "\n",
    "Steps:\n",
    "1. An agent observes the environment\n",
    "2. Selects an action.\n",
    "3. Gets a reward.\n",
    "4. Updates its policy.\n",
    "\n",
    "We can also categorize ML systems to **batch** or **online** algorithms. The question is is whether the algorithm will learn from an incoming stream of data or not. \n",
    "\n",
    "### Batch vs. Online ML Algorithms\n",
    "\n",
    "In batch learning, the model is incapable of incremental learning, it starts by learning from all of the available data offline, and then gets deployed to produce predictions without feeding it any new data points. Another name of batch learning is offline Learning.\n",
    "\n",
    "In online learning, we train the data incrementally by continuously feeding it data instances as they come, either individually or in small groups of instances called *mini-batches*. Each learning step is fast and cheap, so the system can learn as data comes, on the fly. Online learning is great for systems that receive data in a continuous flow. \n",
    "\n",
    "One important aspect of online learning is how fast the learning algorithm should adapt to new data points or to changes to the overall data distribution. With a big learning rate, the model tends to forget past data and lean heavily towards new data points. With a small learning rate, the model tends to slightly adapt to new data points but keeps its knowledge on old data points mostly intact.\n",
    "\n",
    "A big challenge with online learning algorithms is that they can be damaged with bad incoming data points and clients will notice that on the fly To mitigate this, we can closely monitor the system through performance metrics and turn off online learning or revert back to a previous model state. We have to also make sure we clean the data before feeding it to the model by conducting anomaly/outlier detection (data engineering).\n",
    "\n",
    "### Instance vs. Model based Learning\n",
    "\n",
    "One other way to categorize machine learning algorithms is how they generalize. There are two approaches to generalization: instance-based approaches and model-based approaches.\n",
    "\n",
    "With instance-based Learning, we perform similarity-based comparisons, a new data point would be classified based on its similarity to the target group in the training set, this would require a measure of similarity.\n",
    "\n",
    "In model-based learning we build a model for each class of data points and then use the model to classify a new data point (from the validation/test/production environment).\n",
    "\n",
    "Let's go through an example of model-based learning using linear regression:"
   ]
  },
  {
   "cell_type": "code",
   "execution_count": 1,
   "metadata": {},
   "outputs": [
    {
     "name": "stdout",
     "output_type": "stream",
     "text": [
      "Automatic pdb calling has been turned ON\n"
     ]
    }
   ],
   "source": [
    "%pdb on\n",
    "from pathlib import Path\n",
    "from IPython.core.debugger import set_trace\n",
    "import jupyter_plz"
   ]
  },
  {
   "cell_type": "code",
   "execution_count": 2,
   "metadata": {},
   "outputs": [],
   "source": [
    "import numpy as np\n",
    "import pandas as pd\n",
    "import matplotlib.pyplot as plt\n",
    "from sklearn.linear_model import LinearRegression\n",
    "np.random.seed(42)"
   ]
  },
  {
   "cell_type": "code",
   "execution_count": 3,
   "metadata": {},
   "outputs": [],
   "source": [
    "# Extra\n",
    "from scipy import linalg"
   ]
  },
  {
   "cell_type": "markdown",
   "metadata": {},
   "source": [
    "Let's start by setting the home directory for data:"
   ]
  },
  {
   "cell_type": "code",
   "execution_count": 4,
   "metadata": {},
   "outputs": [],
   "source": [
    "data_store = Path(\"./data/00/\")\n",
    "assert data_store.exists()"
   ]
  },
  {
   "cell_type": "markdown",
   "metadata": {},
   "source": [
    "We read the GDP data per capita:"
   ]
  },
  {
   "cell_type": "code",
   "execution_count": 5,
   "metadata": {},
   "outputs": [
    {
     "data": {
      "text/html": [
       "<div>\n",
       "<style scoped>\n",
       "    .dataframe tbody tr th:only-of-type {\n",
       "        vertical-align: middle;\n",
       "    }\n",
       "\n",
       "    .dataframe tbody tr th {\n",
       "        vertical-align: top;\n",
       "    }\n",
       "\n",
       "    .dataframe thead th {\n",
       "        text-align: right;\n",
       "    }\n",
       "</style>\n",
       "<table border=\"1\" class=\"dataframe\">\n",
       "  <thead>\n",
       "    <tr style=\"text-align: right;\">\n",
       "      <th></th>\n",
       "      <th>Country</th>\n",
       "      <th>Subject Descriptor</th>\n",
       "      <th>Units</th>\n",
       "      <th>Scale</th>\n",
       "      <th>Country/Series-specific Notes</th>\n",
       "      <th>2015</th>\n",
       "      <th>Estimates Start After</th>\n",
       "    </tr>\n",
       "  </thead>\n",
       "  <tbody>\n",
       "    <tr>\n",
       "      <th>0</th>\n",
       "      <td>Afghanistan</td>\n",
       "      <td>Gross domestic product per capita, current prices</td>\n",
       "      <td>U.S. dollars</td>\n",
       "      <td>Units</td>\n",
       "      <td>See notes for:  Gross domestic product, curren...</td>\n",
       "      <td>599.994</td>\n",
       "      <td>2013.0</td>\n",
       "    </tr>\n",
       "    <tr>\n",
       "      <th>1</th>\n",
       "      <td>Albania</td>\n",
       "      <td>Gross domestic product per capita, current prices</td>\n",
       "      <td>U.S. dollars</td>\n",
       "      <td>Units</td>\n",
       "      <td>See notes for:  Gross domestic product, curren...</td>\n",
       "      <td>3995.383</td>\n",
       "      <td>2010.0</td>\n",
       "    </tr>\n",
       "    <tr>\n",
       "      <th>2</th>\n",
       "      <td>Algeria</td>\n",
       "      <td>Gross domestic product per capita, current prices</td>\n",
       "      <td>U.S. dollars</td>\n",
       "      <td>Units</td>\n",
       "      <td>See notes for:  Gross domestic product, curren...</td>\n",
       "      <td>4318.135</td>\n",
       "      <td>2014.0</td>\n",
       "    </tr>\n",
       "    <tr>\n",
       "      <th>3</th>\n",
       "      <td>Angola</td>\n",
       "      <td>Gross domestic product per capita, current prices</td>\n",
       "      <td>U.S. dollars</td>\n",
       "      <td>Units</td>\n",
       "      <td>See notes for:  Gross domestic product, curren...</td>\n",
       "      <td>4100.315</td>\n",
       "      <td>2014.0</td>\n",
       "    </tr>\n",
       "    <tr>\n",
       "      <th>4</th>\n",
       "      <td>Antigua and Barbuda</td>\n",
       "      <td>Gross domestic product per capita, current prices</td>\n",
       "      <td>U.S. dollars</td>\n",
       "      <td>Units</td>\n",
       "      <td>See notes for:  Gross domestic product, curren...</td>\n",
       "      <td>14414.302</td>\n",
       "      <td>2011.0</td>\n",
       "    </tr>\n",
       "  </tbody>\n",
       "</table>\n",
       "</div>"
      ],
      "text/plain": [
       "               Country                                 Subject Descriptor  \\\n",
       "0          Afghanistan  Gross domestic product per capita, current prices   \n",
       "1              Albania  Gross domestic product per capita, current prices   \n",
       "2              Algeria  Gross domestic product per capita, current prices   \n",
       "3               Angola  Gross domestic product per capita, current prices   \n",
       "4  Antigua and Barbuda  Gross domestic product per capita, current prices   \n",
       "\n",
       "          Units  Scale                      Country/Series-specific Notes  \\\n",
       "0  U.S. dollars  Units  See notes for:  Gross domestic product, curren...   \n",
       "1  U.S. dollars  Units  See notes for:  Gross domestic product, curren...   \n",
       "2  U.S. dollars  Units  See notes for:  Gross domestic product, curren...   \n",
       "3  U.S. dollars  Units  See notes for:  Gross domestic product, curren...   \n",
       "4  U.S. dollars  Units  See notes for:  Gross domestic product, curren...   \n",
       "\n",
       "        2015  Estimates Start After  \n",
       "0    599.994                 2013.0  \n",
       "1   3995.383                 2010.0  \n",
       "2   4318.135                 2014.0  \n",
       "3   4100.315                 2014.0  \n",
       "4  14414.302                 2011.0  "
      ]
     },
     "execution_count": 5,
     "metadata": {},
     "output_type": "execute_result"
    }
   ],
   "source": [
    "# Read GDP data\n",
    "gdp = pd.read_csv(\n",
    "    data_store / \"gdp_per_capita.csv\",\n",
    "    sep=\"\\t\",\n",
    "    encoding=\"latin1\",\n",
    "    thousands=\",\",\n",
    "    na_values=\"n/a\"\n",
    ").dropna()\n",
    "\n",
    "# Check the top N rows\n",
    "gdp.head()"
   ]
  },
  {
   "cell_type": "markdown",
   "metadata": {},
   "source": [
    "Let's clean the dataframe:"
   ]
  },
  {
   "cell_type": "code",
   "execution_count": 6,
   "metadata": {},
   "outputs": [],
   "source": [
    "# Set the columns that have a single value across the whole dataframe to be deleted\n",
    "cols_to_del = [\"Subject Descriptor\", \"Units\", \"Scale\", \"Country/Series-specific Notes\", \"Estimates Start After\"]\n",
    "\n",
    "# Delete the columns from the dataframe\n",
    "gdp = gdp.drop(cols_to_del, axis=1)"
   ]
  },
  {
   "cell_type": "markdown",
   "metadata": {},
   "source": [
    "We rename the columns:"
   ]
  },
  {
   "cell_type": "code",
   "execution_count": 7,
   "metadata": {},
   "outputs": [],
   "source": [
    "col2name = { \"Country\": \"country\", \"2015\": \"GDP\" }\n",
    "gdp = gdp.rename(columns=col2name)"
   ]
  },
  {
   "cell_type": "markdown",
   "metadata": {},
   "source": [
    "Next, let's read the Organisation for Economic Co-operation and Development (OECD) data:"
   ]
  },
  {
   "cell_type": "code",
   "execution_count": 8,
   "metadata": {},
   "outputs": [],
   "source": [
    "# Read the file as a dataframe\n",
    "oecd = pd.read_csv(\n",
    "    data_store / \"oecd.csv\",\n",
    "    thousands=\",\"\n",
    ")\n",
    "\n",
    "# Select the columns of interest\n",
    "cols = ['Country', 'Indicator', 'Inequality', 'Unit', 'Value']\n",
    "oecd = oecd[cols]"
   ]
  },
  {
   "cell_type": "markdown",
   "metadata": {},
   "source": [
    "Let's focus on life satisfaction by:\n",
    "\n",
    "1. Filtering for the `Life Satisfaction` indicator.\n",
    "2. Selecting the `Country` and `Value` columns.\n",
    "3. Renaming the columns of the resulting dataframe."
   ]
  },
  {
   "cell_type": "code",
   "execution_count": 9,
   "metadata": {},
   "outputs": [
    {
     "data": {
      "text/html": [
       "<div>\n",
       "<style scoped>\n",
       "    .dataframe tbody tr th:only-of-type {\n",
       "        vertical-align: middle;\n",
       "    }\n",
       "\n",
       "    .dataframe tbody tr th {\n",
       "        vertical-align: top;\n",
       "    }\n",
       "\n",
       "    .dataframe thead th {\n",
       "        text-align: right;\n",
       "    }\n",
       "</style>\n",
       "<table border=\"1\" class=\"dataframe\">\n",
       "  <thead>\n",
       "    <tr style=\"text-align: right;\">\n",
       "      <th></th>\n",
       "      <th>country</th>\n",
       "      <th>satisfaction</th>\n",
       "    </tr>\n",
       "  </thead>\n",
       "  <tbody>\n",
       "    <tr>\n",
       "      <th>1812</th>\n",
       "      <td>Australia</td>\n",
       "      <td>7.3</td>\n",
       "    </tr>\n",
       "    <tr>\n",
       "      <th>1813</th>\n",
       "      <td>Austria</td>\n",
       "      <td>7.1</td>\n",
       "    </tr>\n",
       "    <tr>\n",
       "      <th>1814</th>\n",
       "      <td>Belgium</td>\n",
       "      <td>6.9</td>\n",
       "    </tr>\n",
       "    <tr>\n",
       "      <th>1815</th>\n",
       "      <td>Canada</td>\n",
       "      <td>7.4</td>\n",
       "    </tr>\n",
       "    <tr>\n",
       "      <th>1816</th>\n",
       "      <td>Czech Republic</td>\n",
       "      <td>6.7</td>\n",
       "    </tr>\n",
       "    <tr>\n",
       "      <th>...</th>\n",
       "      <td>...</td>\n",
       "      <td>...</td>\n",
       "    </tr>\n",
       "    <tr>\n",
       "      <th>2351</th>\n",
       "      <td>Lithuania</td>\n",
       "      <td>5.9</td>\n",
       "    </tr>\n",
       "    <tr>\n",
       "      <th>2352</th>\n",
       "      <td>Colombia</td>\n",
       "      <td>6.3</td>\n",
       "    </tr>\n",
       "    <tr>\n",
       "      <th>2353</th>\n",
       "      <td>Lithuania</td>\n",
       "      <td>6.0</td>\n",
       "    </tr>\n",
       "    <tr>\n",
       "      <th>2354</th>\n",
       "      <td>Lithuania</td>\n",
       "      <td>6.5</td>\n",
       "    </tr>\n",
       "    <tr>\n",
       "      <th>2355</th>\n",
       "      <td>Lithuania</td>\n",
       "      <td>5.6</td>\n",
       "    </tr>\n",
       "  </tbody>\n",
       "</table>\n",
       "<p>168 rows × 2 columns</p>\n",
       "</div>"
      ],
      "text/plain": [
       "             country  satisfaction\n",
       "1812       Australia           7.3\n",
       "1813         Austria           7.1\n",
       "1814         Belgium           6.9\n",
       "1815          Canada           7.4\n",
       "1816  Czech Republic           6.7\n",
       "...              ...           ...\n",
       "2351       Lithuania           5.9\n",
       "2352        Colombia           6.3\n",
       "2353       Lithuania           6.0\n",
       "2354       Lithuania           6.5\n",
       "2355       Lithuania           5.6\n",
       "\n",
       "[168 rows x 2 columns]"
      ]
     },
     "execution_count": 9,
     "metadata": {},
     "output_type": "execute_result"
    }
   ],
   "source": [
    "# Filter & select\n",
    "oecd = oecd.loc[oecd[\"Indicator\"] == \"Life satisfaction\", [\"Country\", \"Value\"]]\n",
    "\n",
    "# Rename\n",
    "oecd = oecd.rename(columns={\"Value\": \"satisfaction\", \"Country\": \"country\"})\n",
    "oecd"
   ]
  },
  {
   "cell_type": "markdown",
   "metadata": {},
   "source": [
    "Finally, let's merge GDP data with satisfaction information by the `country` column:"
   ]
  },
  {
   "cell_type": "code",
   "execution_count": 10,
   "metadata": {},
   "outputs": [
    {
     "data": {
      "text/html": [
       "<div>\n",
       "<style scoped>\n",
       "    .dataframe tbody tr th:only-of-type {\n",
       "        vertical-align: middle;\n",
       "    }\n",
       "\n",
       "    .dataframe tbody tr th {\n",
       "        vertical-align: top;\n",
       "    }\n",
       "\n",
       "    .dataframe thead th {\n",
       "        text-align: right;\n",
       "    }\n",
       "</style>\n",
       "<table border=\"1\" class=\"dataframe\">\n",
       "  <thead>\n",
       "    <tr style=\"text-align: right;\">\n",
       "      <th></th>\n",
       "      <th>country</th>\n",
       "      <th>GDP</th>\n",
       "      <th>satisfaction</th>\n",
       "    </tr>\n",
       "  </thead>\n",
       "  <tbody>\n",
       "    <tr>\n",
       "      <th>0</th>\n",
       "      <td>Australia</td>\n",
       "      <td>50961.865</td>\n",
       "      <td>7.3</td>\n",
       "    </tr>\n",
       "    <tr>\n",
       "      <th>1</th>\n",
       "      <td>Australia</td>\n",
       "      <td>50961.865</td>\n",
       "      <td>7.2</td>\n",
       "    </tr>\n",
       "    <tr>\n",
       "      <th>2</th>\n",
       "      <td>Australia</td>\n",
       "      <td>50961.865</td>\n",
       "      <td>7.4</td>\n",
       "    </tr>\n",
       "    <tr>\n",
       "      <th>3</th>\n",
       "      <td>Australia</td>\n",
       "      <td>50961.865</td>\n",
       "      <td>7.5</td>\n",
       "    </tr>\n",
       "    <tr>\n",
       "      <th>4</th>\n",
       "      <td>Austria</td>\n",
       "      <td>43724.031</td>\n",
       "      <td>7.1</td>\n",
       "    </tr>\n",
       "    <tr>\n",
       "      <th>...</th>\n",
       "      <td>...</td>\n",
       "      <td>...</td>\n",
       "      <td>...</td>\n",
       "    </tr>\n",
       "    <tr>\n",
       "      <th>158</th>\n",
       "      <td>United Kingdom</td>\n",
       "      <td>43770.688</td>\n",
       "      <td>6.8</td>\n",
       "    </tr>\n",
       "    <tr>\n",
       "      <th>159</th>\n",
       "      <td>United States</td>\n",
       "      <td>55805.204</td>\n",
       "      <td>6.9</td>\n",
       "    </tr>\n",
       "    <tr>\n",
       "      <th>160</th>\n",
       "      <td>United States</td>\n",
       "      <td>55805.204</td>\n",
       "      <td>6.8</td>\n",
       "    </tr>\n",
       "    <tr>\n",
       "      <th>161</th>\n",
       "      <td>United States</td>\n",
       "      <td>55805.204</td>\n",
       "      <td>6.9</td>\n",
       "    </tr>\n",
       "    <tr>\n",
       "      <th>162</th>\n",
       "      <td>United States</td>\n",
       "      <td>55805.204</td>\n",
       "      <td>7.4</td>\n",
       "    </tr>\n",
       "  </tbody>\n",
       "</table>\n",
       "<p>152 rows × 3 columns</p>\n",
       "</div>"
      ],
      "text/plain": [
       "            country        GDP  satisfaction\n",
       "0         Australia  50961.865           7.3\n",
       "1         Australia  50961.865           7.2\n",
       "2         Australia  50961.865           7.4\n",
       "3         Australia  50961.865           7.5\n",
       "4           Austria  43724.031           7.1\n",
       "..              ...        ...           ...\n",
       "158  United Kingdom  43770.688           6.8\n",
       "159   United States  55805.204           6.9\n",
       "160   United States  55805.204           6.8\n",
       "161   United States  55805.204           6.9\n",
       "162   United States  55805.204           7.4\n",
       "\n",
       "[152 rows x 3 columns]"
      ]
     },
     "execution_count": 10,
     "metadata": {},
     "output_type": "execute_result"
    }
   ],
   "source": [
    "# Merge and construct the final dataframe\n",
    "df = pd.merge(gdp, oecd, on=\"country\")\n",
    "\n",
    "# Get rid of outliers to facilitate regression\n",
    "df = df[df[\"GDP\"] <= 60_000]\n",
    "df"
   ]
  },
  {
   "cell_type": "markdown",
   "metadata": {},
   "source": [
    "Let's first visualize the relationship between GDP and Life satisfaction:"
   ]
  },
  {
   "cell_type": "code",
   "execution_count": 11,
   "metadata": {},
   "outputs": [
    {
     "data": {
      "text/plain": [
       "((152, 1), (152, 1))"
      ]
     },
     "execution_count": 11,
     "metadata": {},
     "output_type": "execute_result"
    }
   ],
   "source": [
    "# Get the inputs & outputs\n",
    "X = df[\"GDP\"].values[:, None]\n",
    "y = df[\"satisfaction\"].values[:, None]\n",
    "X.shape, y.shape"
   ]
  },
  {
   "cell_type": "code",
   "execution_count": 12,
   "metadata": {},
   "outputs": [
    {
     "data": {
      "image/png": "[encoded data removed]",
      "text/plain": [
       "<Figure size 600x400 with 1 Axes>"
      ]
     },
     "metadata": {},
     "output_type": "display_data"
    }
   ],
   "source": [
    "fig, ax = plt.subplots(figsize=(6,4))\n",
    "ax.scatter(x=X, y=y, s=5)\n",
    "ax.set_xlim([0, 60_000])\n",
    "ax.set_ylim([0, 10])\n",
    "ax.set_xlabel(\"GDP per Capita (USD)\")\n",
    "ax.set_ylabel(\"Life Satisfaction\")\n",
    "plt.show()"
   ]
  },
  {
   "cell_type": "markdown",
   "metadata": {},
   "source": [
    "The trend seems to be upwards (greater GPD leads to greater satisfaction).\n",
    "\n",
    "Let's train a simple Linear Regression model the visualize its predictions:"
   ]
  },
  {
   "cell_type": "code",
   "execution_count": 13,
   "metadata": {},
   "outputs": [],
   "source": [
    "# Initialize the model\n",
    "model = LinearRegression(fit_intercept=True, \n",
    "                         n_jobs=None, \n",
    "                         positive=False)"
   ]
  },
  {
   "cell_type": "code",
   "execution_count": 14,
   "metadata": {},
   "outputs": [
    {
     "data": {
      "text/html": [
       "<style>#sk-container-id-1 {color: black;background-color: white;}#sk-container-id-1 pre{padding: 0;}#sk-container-id-1 div.sk-toggleable {background-color: white;}#sk-container-id-1 label.sk-toggleable__label {cursor: pointer;display: block;width: 100%;margin-bottom: 0;padding: 0.3em;box-sizing: border-box;text-align: center;}#sk-container-id-1 label.sk-toggleable__label-arrow:before {content: \"▸\";float: left;margin-right: 0.25em;color: #696969;}#sk-container-id-1 label.sk-toggleable__label-arrow:hover:before {color: black;}#sk-container-id-1 div.sk-estimator:hover label.sk-toggleable__label-arrow:before {color: black;}#sk-container-id-1 div.sk-toggleable__content {max-height: 0;max-width: 0;overflow: hidden;text-align: left;background-color: #f0f8ff;}#sk-container-id-1 div.sk-toggleable__content pre {margin: 0.2em;color: black;border-radius: 0.25em;background-color: #f0f8ff;}#sk-container-id-1 input.sk-toggleable__control:checked~div.sk-toggleable__content {max-height: 200px;max-width: 100%;overflow: auto;}#sk-container-id-1 input.sk-toggleable__control:checked~label.sk-toggleable__label-arrow:before {content: \"▾\";}#sk-container-id-1 div.sk-estimator input.sk-toggleable__control:checked~label.sk-toggleable__label {background-color: #d4ebff;}#sk-container-id-1 div.sk-label input.sk-toggleable__control:checked~label.sk-toggleable__label {background-color: #d4ebff;}#sk-container-id-1 input.sk-hidden--visually {border: 0;clip: rect(1px 1px 1px 1px);clip: rect(1px, 1px, 1px, 1px);height: 1px;margin: -1px;overflow: hidden;padding: 0;position: absolute;width: 1px;}#sk-container-id-1 div.sk-estimator {font-family: monospace;background-color: #f0f8ff;border: 1px dotted black;border-radius: 0.25em;box-sizing: border-box;margin-bottom: 0.5em;}#sk-container-id-1 div.sk-estimator:hover {background-color: #d4ebff;}#sk-container-id-1 div.sk-parallel-item::after {content: \"\";width: 100%;border-bottom: 1px solid gray;flex-grow: 1;}#sk-container-id-1 div.sk-label:hover label.sk-toggleable__label {background-color: #d4ebff;}#sk-container-id-1 div.sk-serial::before {content: \"\";position: absolute;border-left: 1px solid gray;box-sizing: border-box;top: 0;bottom: 0;left: 50%;z-index: 0;}#sk-container-id-1 div.sk-serial {display: flex;flex-direction: column;align-items: center;background-color: white;padding-right: 0.2em;padding-left: 0.2em;position: relative;}#sk-container-id-1 div.sk-item {position: relative;z-index: 1;}#sk-container-id-1 div.sk-parallel {display: flex;align-items: stretch;justify-content: center;background-color: white;position: relative;}#sk-container-id-1 div.sk-item::before, #sk-container-id-1 div.sk-parallel-item::before {content: \"\";position: absolute;border-left: 1px solid gray;box-sizing: border-box;top: 0;bottom: 0;left: 50%;z-index: -1;}#sk-container-id-1 div.sk-parallel-item {display: flex;flex-direction: column;z-index: 1;position: relative;background-color: white;}#sk-container-id-1 div.sk-parallel-item:first-child::after {align-self: flex-end;width: 50%;}#sk-container-id-1 div.sk-parallel-item:last-child::after {align-self: flex-start;width: 50%;}#sk-container-id-1 div.sk-parallel-item:only-child::after {width: 0;}#sk-container-id-1 div.sk-dashed-wrapped {border: 1px dashed gray;margin: 0 0.4em 0.5em 0.4em;box-sizing: border-box;padding-bottom: 0.4em;background-color: white;}#sk-container-id-1 div.sk-label label {font-family: monospace;font-weight: bold;display: inline-block;line-height: 1.2em;}#sk-container-id-1 div.sk-label-container {text-align: center;}#sk-container-id-1 div.sk-container {/* jupyter's `normalize.less` sets `[hidden] { display: none; }` but bootstrap.min.css set `[hidden] { display: none !important; }` so we also need the `!important` here to be able to override the default hidden behavior on the sphinx rendered scikit-learn.org. See: https://github.com/scikit-learn/scikit-learn/issues/21755 */display: inline-block !important;position: relative;}#sk-container-id-1 div.sk-text-repr-fallback {display: none;}</style><div id=\"sk-container-id-1\" class=\"sk-top-container\"><div class=\"sk-text-repr-fallback\"><pre>LinearRegression()</pre><b>In a Jupyter environment, please rerun this cell to show the HTML representation or trust the notebook. <br />On GitHub, the HTML representation is unable to render, please try loading this page with nbviewer.org.</b></div><div class=\"sk-container\" hidden><div class=\"sk-item\"><div class=\"sk-estimator sk-toggleable\"><input class=\"sk-toggleable__control sk-hidden--visually\" id=\"sk-estimator-id-1\" type=\"checkbox\" checked><label for=\"sk-estimator-id-1\" class=\"sk-toggleable__label sk-toggleable__label-arrow\">LinearRegression</label><div class=\"sk-toggleable__content\"><pre>LinearRegression()</pre></div></div></div></div></div>"
      ],
      "text/plain": [
       "LinearRegression()"
      ]
     },
     "execution_count": 14,
     "metadata": {},
     "output_type": "execute_result"
    }
   ],
   "source": [
    "# Fit the model to the data (i.e., find the best parameters)\n",
    "model.fit(X, y)"
   ]
  },
  {
   "cell_type": "markdown",
   "metadata": {},
   "source": [
    "Let's first check the resulted parameters from the model after training:"
   ]
  },
  {
   "cell_type": "code",
   "execution_count": 15,
   "metadata": {
    "scrolled": true
   },
   "outputs": [
    {
     "name": "stdout",
     "output_type": "stream",
     "text": [
      "w0 (bias) is: 5.38940334239905\n",
      "w1 is: 3.8894126520613014e-05\n"
     ]
    }
   ],
   "source": [
    "print(f\"w0 (bias) is: {float(model.intercept_[0])}\")\n",
    "print(f\"w1 is: {float(model.coef_[0])}\")"
   ]
  },
  {
   "cell_type": "code",
   "execution_count": 16,
   "metadata": {},
   "outputs": [],
   "source": [
    "# let's visualize our model, because it's a linear one, we can plot it using two points\n",
    "X_ = np.linspace(start=5_000, stop=55_000, num=100)[..., None]\n",
    "y_hat_0 = model.predict(X_)"
   ]
  },
  {
   "cell_type": "code",
   "execution_count": 17,
   "metadata": {},
   "outputs": [
    {
     "data": {
      "image/png": "[encoded data removed]",
      "text/plain": [
       "<Figure size 600x400 with 1 Axes>"
      ]
     },
     "metadata": {},
     "output_type": "display_data"
    }
   ],
   "source": [
    "# Visualize model predictions\n",
    "fig, ax = plt.subplots(figsize=(6,4))\n",
    "ax.scatter(x=X, y=y, s=5)\n",
    "ax.plot(X_, y_hat_0, c=\"red\")\n",
    "ax.set_xlim([0, 60_000])\n",
    "ax.set_ylim([0, 10])\n",
    "ax.set_xlabel(\"GDP per Capita (USD)\")\n",
    "ax.set_ylabel(\"Life Satisfaction\")\n",
    "plt.show()"
   ]
  },
  {
   "cell_type": "markdown",
   "metadata": {},
   "source": [
    "### From-scratch approach\n",
    "\n",
    "From the `LinearRegression` documentation, we have the following:\n",
    "\n",
    "`LinearRegression` fits a linear model with coefficients `w = (w1, ..., wp)`. Formally:\n",
    "\n",
    "$$f_{w}(x) = w_{0} + \\sum_{i=1}^{N} w_{i}*x_{i}$$\n",
    "\n",
    "Meaning that if we have one feature $x_{1}$, the model would simplify to:\n",
    "\n",
    "$$f_{w}(x) = w_{0} + (w_{1}*x_{1})$$\n",
    "\n",
    "Continuing with the docs, we minimize the **residual sum of squares between the observed targets in the dataset, and the targets** predicted by the linear approximation.\n",
    "\n",
    "$$\n",
    "\\begin{equation}\n",
    "\\underset{w}{\\mathrm{argmin}} \\frac{1}{M} \\sum_{j=1}^{M}(y_j - f_{w}(X_{j}))^2\n",
    "\\end{equation}\n",
    "$$\n",
    "\n",
    "`LinearRegression` conducts the following:\n",
    "1. Centers and scales the data for each dimension separately.\n",
    "2. Computes a vector $w$ such that the 2-norm $|y - Xw|$ is minimized. In other words:\n",
    "\n",
    "$$\n",
    "\\begin{equation}\n",
    "\\underset{w}{\\mathrm{argmin}} \\,\\, ||y - Xw||_{2}\n",
    "\\end{equation}\n",
    "$$\n",
    "\n",
    "We can find the (unique) analytical solution by minimizing the squared loss as follows:\n",
    "\n",
    "$$\n",
    "\\begin{align*}\n",
    "|y - Xw|_2^2 = (y - Xw)^T(y - Xw) \\\\\n",
    "= y^Ty - 2w^TX^Ty + w^TX^TXw \\\\\n",
    "= y^Ty - 2(X^Ty)^Tw + w^TX^TXw\n",
    "\\end{align*}\n",
    "$$\n",
    "\n",
    "Taking the derivative of this expression with respect to $w$ and setting it to zero, we get:\n",
    "\n",
    "$$\n",
    "\\begin{align*}\n",
    "\\frac{d}{dw} |y - Xw|_2^2 = -2X^Ty + 2X^TXw = 0\n",
    "\\end{align*}\n",
    "$$\n",
    "\n",
    "The solution is:\n",
    "\n",
    "$$\n",
    "\\begin{align*}\n",
    "\\hat{w} = (X^TX)^{-1}X^Ty \\\n",
    "\\end{align*}\n",
    "$$"
   ]
  },
  {
   "cell_type": "code",
   "execution_count": 18,
   "metadata": {},
   "outputs": [],
   "source": [
    "class CustomLinearRegression:\n",
    "    \n",
    "    def __init__(self):\n",
    "        \n",
    "        # Init model parameters at `None`\n",
    "        self.w = None\n",
    "        self.mu = None\n",
    "        self.std = None\n",
    "        \n",
    "    def _pad_unit_feature(self, X):\n",
    "        return np.concatenate([np.ones_like(X), X], axis=1)\n",
    "    \n",
    "    def _standardize(self, X):\n",
    "        if isinstance(self.mu, np.ndarray) and isinstance(self.std, np.ndarray):\n",
    "            mu = self.mu\n",
    "            std = self.std\n",
    "        else:\n",
    "            mu = self.mu = np.mean(X, axis=0)\n",
    "            std = self.std = np.std(X, axis=0)\n",
    "        return (X - mu) / std\n",
    "    \n",
    "    def fit(self, X, y):\n",
    "        \n",
    "        # The data should be in the form of numpy arrays\n",
    "        assert type(X) == type(y) == np.ndarray\n",
    "        \n",
    "        # Validate the shapes of the inputs & outputs\n",
    "        assert len(X.shape) == len(y.shape) == 2\n",
    "        \n",
    "        # Normalize + standardize `X`\n",
    "        X = self._standardize(X)\n",
    "        \n",
    "        # Add an extra feature in the beginning in the form of `1`s to include bias calculation\n",
    "        X = self._pad_unit_feature(X)\n",
    "        \n",
    "        # Calculate the solution\n",
    "        self.w = np.linalg.inv(X.T @ X) @ X.T @ y\n",
    "        \n",
    "    def predict(self, X):\n",
    "        assert isinstance(self.w, np.ndarray)\n",
    "        assert isinstance(self.mu, np.ndarray) and isinstance(self.mu, np.ndarray)\n",
    "        X = self._standardize(X)\n",
    "        X = self._pad_unit_feature(X)\n",
    "        return X @ self.w"
   ]
  },
  {
   "cell_type": "code",
   "execution_count": 19,
   "metadata": {},
   "outputs": [
    {
     "data": {
      "text/plain": [
       "array([[6.50986842],\n",
       "       [0.61306404]])"
      ]
     },
     "execution_count": 19,
     "metadata": {},
     "output_type": "execute_result"
    }
   ],
   "source": [
    "custom_model = CustomLinearRegression()\n",
    "custom_model.fit(X, y)\n",
    "custom_model.w"
   ]
  },
  {
   "cell_type": "code",
   "execution_count": 20,
   "metadata": {},
   "outputs": [],
   "source": [
    "# let's visualize our model, because it's a linear one, we can plot it using two points\n",
    "y_hat_1 = custom_model.predict(X_)"
   ]
  },
  {
   "cell_type": "markdown",
   "metadata": {},
   "source": [
    "Let's verify that the two sets of predictions are the same:"
   ]
  },
  {
   "cell_type": "code",
   "execution_count": 25,
   "metadata": {},
   "outputs": [
    {
     "data": {
      "text/plain": [
       "False"
      ]
     },
     "execution_count": 25,
     "metadata": {},
     "output_type": "execute_result"
    }
   ],
   "source": [
    "np.array_equal(y_hat_0, y_hat_1)"
   ]
  },
  {
   "cell_type": "markdown",
   "metadata": {},
   "source": [
    "Let's compare our predictions with the ones given by the model:"
   ]
  },
  {
   "cell_type": "code",
   "execution_count": 23,
   "metadata": {},
   "outputs": [
    {
     "data": {
      "image/png": "[encoded data removed]",
      "text/plain": [
       "<Figure size 600x400 with 1 Axes>"
      ]
     },
     "metadata": {},
     "output_type": "display_data"
    }
   ],
   "source": [
    "# Visualize model predictions\n",
    "fig, ax = plt.subplots(figsize=(6,4))\n",
    "ax.scatter(x=X, y=y, s=5)\n",
    "ax.plot(X_, y_hat_0, c=\"red\")\n",
    "ax.plot(X_, y_hat_1, c=\"green\", linestyle=':')\n",
    "ax.set_xlim([0, 60_000])\n",
    "ax.set_ylim([4, 8])\n",
    "ax.set_xlabel(\"GDP per Capita (USD)\")\n",
    "ax.set_ylabel(\"Life Satisfaction\")\n",
    "plt.show()"
   ]
  },
  {
   "cell_type": "code",
   "execution_count": null,
   "metadata": {},
   "outputs": [],
   "source": []
  },
  {
   "cell_type": "code",
   "execution_count": null,
   "metadata": {},
   "outputs": [],
   "source": []
  },
  {
   "cell_type": "code",
   "execution_count": null,
   "metadata": {},
   "outputs": [],
   "source": []
  },
  {
   "cell_type": "code",
   "execution_count": null,
   "metadata": {},
   "outputs": [],
   "source": []
  },
  {
   "cell_type": "code",
   "execution_count": null,
   "metadata": {},
   "outputs": [],
   "source": []
  },
  {
   "cell_type": "code",
   "execution_count": null,
   "metadata": {},
   "outputs": [],
   "source": []
  },
  {
   "cell_type": "code",
   "execution_count": null,
   "metadata": {},
   "outputs": [],
   "source": []
  },
  {
   "cell_type": "code",
   "execution_count": null,
   "metadata": {},
   "outputs": [],
   "source": []
  },
  {
   "cell_type": "markdown",
   "metadata": {},
   "source": [
    "In summary, we go through the following steps to deploy an ML algorithm:\n",
    "1. We study the data: Exploratory data analysis (EDA)\n",
    "2. We select the model\n",
    "3. We train the model\n",
    "4. We infer using the model"
   ]
  },
  {
   "cell_type": "markdown",
   "metadata": {},
   "source": [
    "## Main Challenges of Machine Learning\n",
    "\n",
    "The two things that can go wrong with a machine learning project are:\n",
    "- Collecting bad data.\n",
    "- Picking a bad learning algorithm\n",
    "\n",
    "### Data\n",
    "\n",
    "Data quantity can be a big problem. Even for very simple ml algorihtms, it takes thousands of examples for a convolutional neural network to recognize Cat/Dog in images. A famous paper showed that many algorithms, ranging from very simple ones to complex, perform relatively the same when given enough data. The authors argued that companies should reconsider where to invest their money, in algorithms development or in data corpus engineering.\n",
    "\n",
    "The training sample can also be non-representative of the source dataset. In order to generalize well, It's important that our training data be representative of the data that we want to use in production. If, for example, the training set is too small, we will have sampling noise. Even large samples can be non-representative if the sampling method is flawed, this is called **sampling bias** (Example: non-response bias).\n",
    "\n",
    "Poor quality data can also be a big challenge. Obviously, if our training data is full of outliers, errors, and noise, it will make it harder for the algorithm to detect the underlying patterns, resulting in a bad model. It's always better to properly clean and investigate the data before doing any modeling. Examples of data cleaning:\n",
    "- Outlier detection and cleaning by either removing or replacing the outlier values.\n",
    "- Cleaning missing features by either discarding their instances, filling them with median/average, or training an auxiliary model to predict their values. \n",
    "\n",
    "It's almost always the case that datasets contain irrelevant features. Our system will only learn if the data contains many relevant features and not so many irrelevant ones. A critical part of the success of a machine learning project is what's called **feature engineering** or coming up with features that would produce a quality model, it contains two steps:\n",
    "1. Feature selection: selecting the most useful features to analyze.\n",
    "2. Feature Extraction: adding new features based of the selected ones.\n",
    "We can also create new features by gathering new data.\n",
    "\n",
    "### Overfitting\n",
    "\n",
    "Overfitting means that the ML system performs well on the training data but fails to generalize. Complex models such as deep neural networks tend to memorize training data noise or even the data sample itself if it is small enough. We can do the following to mitigate overfitting:\n",
    "- Select a model with fewer weights/parameters to constrain its predictive power so that it can use only the strongest present patterns.\n",
    "- Gather more training data.\n",
    "- Reduce the noise in the training data by fixing errors and eliminate outliers.\n",
    "\n",
    "Constraining a model & fighting overfitting is called **regularization**. If we take the example of a single linear regression model ($f(x)=ax+b$), it has two degrees of freedom ($2$ parameters). If we let the algorithm change one parameter's values freely but have a set interval around parameter 2, it will have between 1 and 2 degree of freedom. We would want a good balance between keeping the model as simple as possible while giving the model the ability to capture out of training data patterns.\n",
    "\n",
    "Regularization can be controlled using the model's hyperparameters, which describe how the model should learn.\n",
    "\n",
    "### Underfitting\n",
    "\n",
    "Underfitting is the opposite of overfitting. It occurs when the model is too simple to capture the underlying structure of the training data. We present the following solutions to the problem:\n",
    "- We can select a more powerful model, with more parameters\n",
    "- We feed better features to the learning algorithm (feature engineering)\n",
    "- We reduce the constraints on the model (reduce regularization)"
   ]
  },
  {
   "cell_type": "markdown",
   "metadata": {},
   "source": [
    "## Testing & Validating\n",
    "\n",
    "We can evaluate our model by splitting the data into two sets: **training** and **testing** data sets. We only care about out-of-training error, or generalization error, as it is representative of the model's performance in a production environment.\n",
    "\n",
    "If our training error is low but the testing error is high, this means that the model is overfitting. It's common to use **80%** of the data for training and the remaining 20% for testing, but it is dependent on the size of the original data set, the bigger it is, the less percent we can take as a testing set.\n",
    "\n",
    "If we fine-tune regularization parameters on the test set, we are sort of overfitting to it, so we need another data set for hyper-parameter tuning, this data set is usually called the **validation set**. The validation set should be set aside from the training set. After conducting hyper-parameter tuning on using the validation set, we train the model on the full training set (with validation) & evaluate on the test set.\n",
    "\n",
    "A simple but computationally expensive solution to setting aside a large validation set is to perform repeated cross-validation. Its drawback is that we have to train the model N-repetitions. The validation set & the test set must be as representative as possible of the data we will use in production. \n",
    "\n",
    "One Problem is that if the algorithm is performing poorly on the validation set, we won't know if the cause is overfitting or if the training set isn't good for the task at hand. A solution to this is to introduce another validation set, called 'train-dev' set. After training, we will validate the model on both `train-dev` & validation sets. If evaluation is good on `train-dev` & bad on `validation`, this means that the data is not good for the task at hand. If evaluation is bad on `train-dev` & bad on `validation`, this means overfitting or the algorithm/overall data is not good.\n",
    "\n",
    "\n",
    "We should think of a model as a simplified version of the observations. This simplification is meant to discard noise and capture generalizable useful patterns in the training and testing datasets. To decide what information to discard and what to keep, you must make assumptions. For example, a linear model assumes that the relation between the input & output is fundamentally linear & the distance between the model line and the observations is essentially **noise**.\n",
    "\n",
    "If we make no assumptions about the data, than there is no need to prefer one model over another. This is the point behind the \"no free lunch theorem\", which states the following:\n",
    "\n",
    "> [David Wolpert & William Macready] Any two optimization algorithms are equivalent when their performance is averaged across all possible problems"
   ]
  },
  {
   "cell_type": "markdown",
   "metadata": {},
   "source": [
    "## Exercices\n",
    "\n",
    "**1. How would you define Machine Learning?**\n",
    "\n",
    "Machine Learning is the computer's ability to learn from data without being explicitly programmed.\n",
    "\n",
    "**2. Can you name four types of problems where it shines?**\n",
    "\n",
    "Image classification, Voice Recognition, Semantic Segmentation, Sentiment Analysis.\n",
    "\n",
    "**3. What is a labeled training set?**\n",
    "\n",
    "In the context of supervised learning, a labeled training set is a data set with available targets. Meaning that what you want to predict is known before training.\n",
    "\n",
    "Example: a training set composed of images of cats or dogs and the corresponding **label** (cat/dog) for each of the images.\n",
    "\n",
    "**4. What are the two most common supervised tasks?**\n",
    "\n",
    "Classification (where the target is categorical in nature) & Regression (where the labels' domain is continuous).\n",
    "\n",
    "**5. Can you name four common unsupervised tasks?**\n",
    "\n",
    "Clustering, Anomaly detection, Visualization, dimensionality reduction.\n",
    "\n",
    "**6. What type of machine learning algorithm would you use to allow a robot to walk in many paths in an unknown terrain?**\n",
    "\n",
    "Reinforcement learning.\n",
    "\n",
    "**7. What type of algorithm would you use to segment your customers into multiple groups?**\n",
    "\n",
    "An unsupervised clustering algorithm like `K-means` or `DBSCAN`.\n",
    "\n",
    "**8. Would you frame the problem of spam detection as a supervised learning or an unsupervised learning problem?**\n",
    "\n",
    "It a supervised learning problem.\n",
    "\n",
    "**9. What is an online learning system?**\n",
    "\n",
    "An online learning system continues to learn from new data after being deployed in production, in contrast to a batch learning model which would stop learning after the initial training process.\n",
    "\n",
    "**10. What is out-of-core learning?**\n",
    "\n",
    "We use out-of-core learning algorithms when the training data can't fit in a computer's RAM.\n",
    "\n",
    "**11. What type of learning algorithm relies on a similarity measure to make predictions?**\n",
    "\n",
    "Instance-based models, an example of this is K-nearest neighbors.\n",
    "\n",
    "**12. What is the difference between a model's parameters and a learning algorithm's hyper-parameter?**\n",
    "\n",
    "Model parameters are the knobs that, collectively, store the learned knowledge of the model, also called weights, they are continuously changed during training to minimize a cost function. Examples are `a` & `b` in the linear model: $f(x) = ax + b$.\n",
    "\n",
    "A learning algorithm's hyper-parameter describes how the algorithm should learn and control the predictive power of the model, example is the learning rate, number of layers in a NN, number of parameters, batch size, they are set before training and aren't changed during training.\n",
    "\n",
    "**13. What do model-based algorithms search for?**\n",
    "\n",
    "A decision boundary.\n",
    "\n",
    "**14. What is the most common strategy they use to succeed?**\n",
    "\n",
    "They minimize a cost function that describe the distance between the predictions outputted by the model and the real target values.\n",
    "\n",
    "**14. How do they make predictions?**\n",
    "\n",
    "They start with a set of initial parameters, make predictions based on the input & their parameters, then adjust their parameters to minimize cost.\n",
    "\n",
    "**15. Can you name 4 of the main challenges in machine learning?**\n",
    "\n",
    "For algorithmic challenges: Model Overfitting, Model Underfitting. Data challenges include: Data mismatch, Noisy data.\n",
    "\n",
    "**16. If your model performs great on the training data but fails on the test data, What is happening?**\n",
    "\n",
    "Overfitting, the model starts memorizing noise present on the training data to further minimize the cost function. \n",
    "\n",
    "**17. Can you name 3 possible solutions?**\n",
    "\n",
    "Regularization, Adding more data, Simplifying the model.\n",
    "\n",
    "**18. What is a test set? & Why you would want to use it?**\n",
    "\n",
    "The whole data set is usually split into training and testing data sets, we use test data to evaluate the generalizability of the model beyond the training data set.\n",
    "\n",
    "**19. What is the purpose of a validation set?**\n",
    "\n",
    "A validation set is used to fine-tune the models' hyper-parameters, what is called manual training. It leaves the test set for the final evaluation.\n",
    "\n",
    "**20. What is the `train-dev` set?, When do you use it? & How do you use it?**\n",
    "\n",
    "the `train-dev` is a validation set that is taken from a broad training set after performing the train/validation/test split. We use it when we have a broad training data set (ex. images of all animals) but specific validation/test set (zoo animal pics taken with mobile phones) and we want to correctly interpret the model's evaluation. \n",
    "\n",
    "We train the model on the training data set, we evaluate on `train-dev` and `validation`, if model performs badly on both, we have an overfitting case, if the model performs good in `train-dev` and badly on `validation` we have a data mismatch, we conclude that the learning doesn't generalize to our specific production data.\n",
    "\n",
    "**21. What can go wrong if you tune hyper-parameters using the test set?**\n",
    "\n",
    "We can accidentaly overfit to the test set by manually finding hyper-parameters that perform well on the test set but doesn't generalize to production data.\n",
    "\n",
    "---"
   ]
  }
 ],
 "metadata": {
  "kernelspec": {
   "display_name": "Python 3 (ipykernel)",
   "language": "python",
   "name": "python3"
  },
  "language_info": {
   "codemirror_mode": {
    "name": "ipython",
    "version": 3
   },
   "file_extension": ".py",
   "mimetype": "text/x-python",
   "name": "python",
   "nbconvert_exporter": "python",
   "pygments_lexer": "ipython3",
   "version": "3.10.9"
  }
 },
 "nbformat": 4,
 "nbformat_minor": 4
}
